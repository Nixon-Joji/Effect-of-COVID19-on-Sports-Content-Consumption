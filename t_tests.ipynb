{
 "cells": [
  {
   "cell_type": "code",
   "execution_count": 33,
   "metadata": {},
   "outputs": [],
   "source": [
    "#importing librarires\n",
    "import pandas as pd\n",
    "import numpy as np\n",
    "import matplotlib.pyplot as plt\n",
    "from scipy.stats import ttest_ind\n",
    "from scipy.stats import ttest_rel\n"
   ]
  },
  {
   "cell_type": "code",
   "execution_count": 34,
   "metadata": {},
   "outputs": [
    {
     "data": {
      "text/html": [
       "<div>\n",
       "<style scoped>\n",
       "    .dataframe tbody tr th:only-of-type {\n",
       "        vertical-align: middle;\n",
       "    }\n",
       "\n",
       "    .dataframe tbody tr th {\n",
       "        vertical-align: top;\n",
       "    }\n",
       "\n",
       "    .dataframe thead th {\n",
       "        text-align: right;\n",
       "    }\n",
       "</style>\n",
       "<table border=\"1\" class=\"dataframe\">\n",
       "  <thead>\n",
       "    <tr style=\"text-align: right;\">\n",
       "      <th></th>\n",
       "      <th>Olympics 2016</th>\n",
       "      <th>FIFA 2018</th>\n",
       "      <th>Olympics 2020</th>\n",
       "      <th>FIFA 2022</th>\n",
       "    </tr>\n",
       "  </thead>\n",
       "  <tbody>\n",
       "    <tr>\n",
       "      <th>0</th>\n",
       "      <td>2</td>\n",
       "      <td>3</td>\n",
       "      <td>3</td>\n",
       "      <td>4</td>\n",
       "    </tr>\n",
       "    <tr>\n",
       "      <th>1</th>\n",
       "      <td>0</td>\n",
       "      <td>0</td>\n",
       "      <td>0</td>\n",
       "      <td>0</td>\n",
       "    </tr>\n",
       "    <tr>\n",
       "      <th>2</th>\n",
       "      <td>2</td>\n",
       "      <td>4</td>\n",
       "      <td>3</td>\n",
       "      <td>5</td>\n",
       "    </tr>\n",
       "    <tr>\n",
       "      <th>3</th>\n",
       "      <td>0</td>\n",
       "      <td>0</td>\n",
       "      <td>1</td>\n",
       "      <td>1</td>\n",
       "    </tr>\n",
       "    <tr>\n",
       "      <th>4</th>\n",
       "      <td>0</td>\n",
       "      <td>0</td>\n",
       "      <td>0</td>\n",
       "      <td>0</td>\n",
       "    </tr>\n",
       "    <tr>\n",
       "      <th>...</th>\n",
       "      <td>...</td>\n",
       "      <td>...</td>\n",
       "      <td>...</td>\n",
       "      <td>...</td>\n",
       "    </tr>\n",
       "    <tr>\n",
       "      <th>98</th>\n",
       "      <td>1</td>\n",
       "      <td>1</td>\n",
       "      <td>1</td>\n",
       "      <td>2</td>\n",
       "    </tr>\n",
       "    <tr>\n",
       "      <th>99</th>\n",
       "      <td>0</td>\n",
       "      <td>0</td>\n",
       "      <td>2</td>\n",
       "      <td>3</td>\n",
       "    </tr>\n",
       "    <tr>\n",
       "      <th>100</th>\n",
       "      <td>2</td>\n",
       "      <td>3</td>\n",
       "      <td>1</td>\n",
       "      <td>4</td>\n",
       "    </tr>\n",
       "    <tr>\n",
       "      <th>101</th>\n",
       "      <td>2</td>\n",
       "      <td>0</td>\n",
       "      <td>3</td>\n",
       "      <td>0</td>\n",
       "    </tr>\n",
       "    <tr>\n",
       "      <th>102</th>\n",
       "      <td>3</td>\n",
       "      <td>4</td>\n",
       "      <td>4</td>\n",
       "      <td>4</td>\n",
       "    </tr>\n",
       "  </tbody>\n",
       "</table>\n",
       "<p>103 rows × 4 columns</p>\n",
       "</div>"
      ],
      "text/plain": [
       "     Olympics 2016  FIFA 2018  Olympics 2020  FIFA 2022\n",
       "0                2          3              3          4\n",
       "1                0          0              0          0\n",
       "2                2          4              3          5\n",
       "3                0          0              1          1\n",
       "4                0          0              0          0\n",
       "..             ...        ...            ...        ...\n",
       "98               1          1              1          2\n",
       "99               0          0              2          3\n",
       "100              2          3              1          4\n",
       "101              2          0              3          0\n",
       "102              3          4              4          4\n",
       "\n",
       "[103 rows x 4 columns]"
      ]
     },
     "execution_count": 34,
     "metadata": {},
     "output_type": "execute_result"
    }
   ],
   "source": [
    "#reading dataset\n",
    "df = pd.read_csv('survey_rating.csv')\n",
    "df"
   ]
  },
  {
   "cell_type": "code",
   "execution_count": 35,
   "metadata": {},
   "outputs": [
    {
     "data": {
      "text/html": [
       "<div>\n",
       "<style scoped>\n",
       "    .dataframe tbody tr th:only-of-type {\n",
       "        vertical-align: middle;\n",
       "    }\n",
       "\n",
       "    .dataframe tbody tr th {\n",
       "        vertical-align: top;\n",
       "    }\n",
       "\n",
       "    .dataframe thead th {\n",
       "        text-align: right;\n",
       "    }\n",
       "</style>\n",
       "<table border=\"1\" class=\"dataframe\">\n",
       "  <thead>\n",
       "    <tr style=\"text-align: right;\">\n",
       "      <th></th>\n",
       "      <th>Olympics 2016</th>\n",
       "      <th>FIFA 2018</th>\n",
       "      <th>Olympics 2020</th>\n",
       "      <th>FIFA 2022</th>\n",
       "      <th>pre_pandemic_mean</th>\n",
       "      <th>post_pandemic_mean</th>\n",
       "    </tr>\n",
       "  </thead>\n",
       "  <tbody>\n",
       "    <tr>\n",
       "      <th>0</th>\n",
       "      <td>2</td>\n",
       "      <td>3</td>\n",
       "      <td>3</td>\n",
       "      <td>4</td>\n",
       "      <td>2.5</td>\n",
       "      <td>3.5</td>\n",
       "    </tr>\n",
       "    <tr>\n",
       "      <th>1</th>\n",
       "      <td>0</td>\n",
       "      <td>0</td>\n",
       "      <td>0</td>\n",
       "      <td>0</td>\n",
       "      <td>0.0</td>\n",
       "      <td>0.0</td>\n",
       "    </tr>\n",
       "    <tr>\n",
       "      <th>2</th>\n",
       "      <td>2</td>\n",
       "      <td>4</td>\n",
       "      <td>3</td>\n",
       "      <td>5</td>\n",
       "      <td>3.0</td>\n",
       "      <td>4.0</td>\n",
       "    </tr>\n",
       "    <tr>\n",
       "      <th>3</th>\n",
       "      <td>0</td>\n",
       "      <td>0</td>\n",
       "      <td>1</td>\n",
       "      <td>1</td>\n",
       "      <td>0.0</td>\n",
       "      <td>1.0</td>\n",
       "    </tr>\n",
       "    <tr>\n",
       "      <th>4</th>\n",
       "      <td>0</td>\n",
       "      <td>0</td>\n",
       "      <td>0</td>\n",
       "      <td>0</td>\n",
       "      <td>0.0</td>\n",
       "      <td>0.0</td>\n",
       "    </tr>\n",
       "  </tbody>\n",
       "</table>\n",
       "</div>"
      ],
      "text/plain": [
       "   Olympics 2016  FIFA 2018  Olympics 2020  FIFA 2022  pre_pandemic_mean  \\\n",
       "0              2          3              3          4                2.5   \n",
       "1              0          0              0          0                0.0   \n",
       "2              2          4              3          5                3.0   \n",
       "3              0          0              1          1                0.0   \n",
       "4              0          0              0          0                0.0   \n",
       "\n",
       "   post_pandemic_mean  \n",
       "0                 3.5  \n",
       "1                 0.0  \n",
       "2                 4.0  \n",
       "3                 1.0  \n",
       "4                 0.0  "
      ]
     },
     "execution_count": 35,
     "metadata": {},
     "output_type": "execute_result"
    }
   ],
   "source": [
    "#adding new columns\n",
    "df['pre_pandemic_mean'] = (df['Olympics 2016']+df['FIFA 2018'])/2\n",
    "df['post_pandemic_mean'] = (df['Olympics 2020']+df['FIFA 2022'])/2\n",
    "df.head()"
   ]
  },
  {
   "attachments": {},
   "cell_type": "markdown",
   "metadata": {},
   "source": [
    "Hypothesis Testing (Two Sample t-Test)"
   ]
  },
  {
   "attachments": {},
   "cell_type": "markdown",
   "metadata": {},
   "source": [
    "Null Hypothesis: There is no significant difference between how closely sport events were followed before and after the COVID-19 pandemic\n",
    "\n",
    "Alternate Hypothesis: There is significant difference between how closely sport events were followed before and after the COVID-19 pandemic"
   ]
  },
  {
   "cell_type": "code",
   "execution_count": 36,
   "metadata": {},
   "outputs": [],
   "source": [
    "pre_pandemic_scores = np.array(df['pre_pandemic_mean'])\n",
    "post_pandemic_scores = np.array(df['post_pandemic_mean'])"
   ]
  },
  {
   "cell_type": "code",
   "execution_count": 37,
   "metadata": {},
   "outputs": [],
   "source": [
    "t_statistic, p_value = ttest_ind(pre_pandemic_scores, post_pandemic_scores, equal_var=False)"
   ]
  },
  {
   "cell_type": "code",
   "execution_count": 38,
   "metadata": {},
   "outputs": [
    {
     "name": "stdout",
     "output_type": "stream",
     "text": [
      "t-statistic: -4.08\n",
      "p-value: 0.0001\n"
     ]
    }
   ],
   "source": [
    "alpha = 0.05\n",
    "print(\"t-statistic: {:.2f}\".format(t_statistic))\n",
    "print(\"p-value: {:.4f}\".format(p_value))"
   ]
  },
  {
   "cell_type": "code",
   "execution_count": 39,
   "metadata": {},
   "outputs": [
    {
     "name": "stdout",
     "output_type": "stream",
     "text": [
      "P-Value is 0.0001 \n",
      "NULL HYPOTHESIS REJECTED \n",
      "There is a significant difference between how closely sport events were followed before and after the COVID-19 pandemic\n"
     ]
    }
   ],
   "source": [
    "if p_value < alpha:\n",
    "    print(\"P-Value is {:.4f}\".format(p_value), \"\\nNULL HYPOTHESIS REJECTED \\nThere is a significant difference between how closely sport events were followed before and after the COVID-19 pandemic\")\n",
    "else:\n",
    "    print(\"P-Value is {:.4f}\".format(p_value), \"\\nNULL HYPOThere is no significant difference between how closely sport events were followed before and after the COVID-19 pandemic\")"
   ]
  },
  {
   "attachments": {},
   "cell_type": "markdown",
   "metadata": {},
   "source": [
    "Finding Cohen's D value\n",
    "\n",
    "\n",
    "First Sample is post-pandemic rating and Second Sample is pre-pandemic rating.\n",
    "\n",
    "Therefore a positive value would mean that the most followed sporting events were followed more during the pandemic than before the pandemic and vice-versa\n"
   ]
  },
  {
   "cell_type": "code",
   "execution_count": 40,
   "metadata": {},
   "outputs": [
    {
     "name": "stdout",
     "output_type": "stream",
     "text": [
      "Cohen's D Value:  0.5717829567135929 \n",
      "Therefore the most followed sporting events were followed more during the pandemic than before the pandemic\n"
     ]
    }
   ],
   "source": [
    "mean1, mean2 = np.mean(post_pandemic_scores), np.mean(pre_pandemic_scores)\n",
    "pooled_std = np.sqrt((np.std(post_pandemic_scores)**2 + np.std(pre_pandemic_scores)**2) / 2)\n",
    "cohens_d = (mean1 - mean2) / pooled_std\n",
    "if cohens_d > 0:\n",
    "    print(\"Cohen's D Value: \",  cohens_d, \"\\nTherefore the most followed sporting events were followed more during the pandemic than before the pandemic\")\n",
    "else:\n",
    "     print(\"Cohen's D Value: \",  cohens_d, \"\\nTherefore the most followed sporting events were followed less during the pandemic than before the pandemic\")"
   ]
  },
  {
   "attachments": {},
   "cell_type": "markdown",
   "metadata": {},
   "source": [
    "---------------------------------------------------------------------------------------------------------------------"
   ]
  },
  {
   "cell_type": "markdown",
   "metadata": {},
   "source": [
    "Hypothesis Testing (Paired t-Test)\n",
    "\n",
    "Null Hypothesis: There is no significant difference between how closely sport events were followed before and after the COVID-19 pandemic\n",
    "\n",
    "Alternate Hypothesis: There is significant difference between how closely sport events were followed before and after the COVID-19 pandemic\n",
    "\n",
    "\n",
    "\n"
   ]
  },
  {
   "cell_type": "code",
   "execution_count": 41,
   "metadata": {},
   "outputs": [],
   "source": [
    "scores =  [pre_pandemic_scores, post_pandemic_scores]"
   ]
  },
  {
   "cell_type": "code",
   "execution_count": 42,
   "metadata": {},
   "outputs": [],
   "source": [
    "pt_statistic, pt_p_value = ttest_rel(scores[0], scores[1])"
   ]
  },
  {
   "cell_type": "code",
   "execution_count": 43,
   "metadata": {},
   "outputs": [
    {
     "name": "stdout",
     "output_type": "stream",
     "text": [
      "t-statistic: -6.61\n",
      "p-value: 0.000000002\n"
     ]
    }
   ],
   "source": [
    "print(\"t-statistic: {:.2f}\".format(pt_statistic))\n",
    "print(\"p-value: {:.9f}\".format(pt_p_value))"
   ]
  },
  {
   "cell_type": "code",
   "execution_count": 44,
   "metadata": {},
   "outputs": [
    {
     "name": "stdout",
     "output_type": "stream",
     "text": [
      "P-Value is 0.000000002 \n",
      "NULL HYPOTHESIS REJECTED \n",
      "There is a significant difference between how closely sport events were followed before and after the COVID-19 pandemic\n"
     ]
    }
   ],
   "source": [
    "if p_value < alpha:\n",
    "    print(\"P-Value is {:.9f}\".format(pt_p_value), \"\\nNULL HYPOTHESIS REJECTED \\nThere is a significant difference between how closely sport events were followed before and after the COVID-19 pandemic\")\n",
    "else:\n",
    "    print(\"P-Value is {:.9f}\".format(pt_p_value), \"\\nNULL HYPOThere is no significant difference between how closely sport events were followed before and after the COVID-19 pandemic\")"
   ]
  },
  {
   "attachments": {},
   "cell_type": "markdown",
   "metadata": {},
   "source": [
    "Cohens_D Value"
   ]
  },
  {
   "cell_type": "code",
   "execution_count": 45,
   "metadata": {},
   "outputs": [
    {
     "data": {
      "text/plain": [
       "0.5717829567135929"
      ]
     },
     "execution_count": 45,
     "metadata": {},
     "output_type": "execute_result"
    }
   ],
   "source": [
    "mean1, mean2 = np.mean(scores[1]), np.mean(scores[0])\n",
    "pooled_std = np.sqrt((np.std(scores[1])**2 + np.std(scores[0])**2) / 2)\n",
    "cohens_d = (mean1 - mean2) / pooled_std\n",
    "cohens_d"
   ]
  },
  {
   "attachments": {},
   "cell_type": "markdown",
   "metadata": {},
   "source": [
    "Since it is positive, it means viewership during pandemic was more than pre pandemic times. And since the value is around 0.5, the effect on viewership is medium"
   ]
  },
  {
   "cell_type": "markdown",
   "metadata": {},
   "source": []
  }
 ],
 "metadata": {
  "kernelspec": {
   "display_name": "Python 3",
   "language": "python",
   "name": "python3"
  },
  "language_info": {
   "codemirror_mode": {
    "name": "ipython",
    "version": 3
   },
   "file_extension": ".py",
   "mimetype": "text/x-python",
   "name": "python",
   "nbconvert_exporter": "python",
   "pygments_lexer": "ipython3",
   "version": "3.11.1"
  },
  "orig_nbformat": 4
 },
 "nbformat": 4,
 "nbformat_minor": 2
}
